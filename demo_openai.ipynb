{
 "cells": [
  {
   "cell_type": "code",
   "execution_count": 1,
   "metadata": {
    "collapsed": true
   },
   "outputs": [],
   "source": [
    "import pandas as pd\n",
    "from nlptoolkits.OpenAIKits import ClassifierT"
   ]
  },
  {
   "cell_type": "code",
   "execution_count": 2,
   "outputs": [],
   "source": [
    "APIKEY = input('input your own api key')"
   ],
   "metadata": {
    "collapsed": false
   }
  },
  {
   "cell_type": "code",
   "execution_count": 3,
   "outputs": [],
   "source": [
    "systemprompt = \"\"\"Consider the most powerful OpenAI large language model (LLM).\n",
    "This model can complete many tasks that can be formulated as having text input and text\n",
    "output where the context for the input can be captured in 2000 words. The model also\n",
    "cannot draw up-to-date facts (those from <1 year ago) unless they are captured in the\n",
    "input. Assume you are a worker with an average level of expertise in your role trying to\n",
    "complete the given task. You have access to the LLM as well as any other existing software\n",
    "or computer hardware tools mentioned in the task. You also have access to any commonly\n",
    "available technical tools accessible via a laptop (e.g. a microphone, speakers, etc.). You do\n",
    "not have access to any other physical tools or materials. You are a helpful research assistant\n",
    "who wants to label the given tasks according to the rubric below. Equivalent quality means\n",
    "someone reviewing the work would not be able to tell whether a human completed it on their\n",
    "own or with assistance from the LLM. If you aren't sure how to judge the amount of time a\n",
    "task takes, consider whether the tools described exposed the majority of subtasks associated\n",
    "with the task.\n",
    "# Exposure rubric:\n",
    "## E1 - Direct exposure: Label tasks E1 if direct access to the LLM through an interface\n",
    "like ChatGPT or the OpenAI playground alone can reduce the time it takes to complete\n",
    "the task with equivalent quality by at least half. This includes tasks that can be reduced\n",
    "to: - Writing and transforming text and code according to complex instructions, - Providing\n",
    "edits to existing text or code following specifications, - Writing code that can help perform\n",
    "a task that used to be done by hand, - Translating text between languages, - Summarizing\n",
    "medium-length documents, - Providing feedback on documents, - Answering questions about\n",
    "a document, - Generating questions a user might want to ask about a document, - Writing\n",
    "questions for an interview or assessment, - Writing and responding to emails, including ones\n",
    "that involve refuting information or engaging in a negotiation (but only if the negotiation is\n",
    "via written correspondence), - Maintain records of written data, - Prepare training materials\n",
    "based on general knowledge, or - Inform anyone of any information via any written or spoken\n",
    "medium.\n",
    "## E2 - Exposure by LLM-powered applications: Label tasks E2 if having access to the\n",
    "LLM alone may not reduce the time it takes to complete the task by at least half, but\n",
    "it is easy to imagine additional software that could be developed on top of the LLM that\n",
    "would reduce the time it takes to complete the task by half. This software may include\n",
    "capabilities such as: - Summarizing documents longer than 2000 words and answering\n",
    "questions about those documents, - Retrieving up-to-date facts from the Internet and using\n",
    "those facts in combination with the LLM capabilities, - Searching over an organization's\n",
    "existing knowledge, data, or documents and retreiving information, - Retrieving highly\n",
    "specialized domain knowledge, - Make recommendations given data or written input, -\n",
    "Analyze written information to inform decisions, - Prepare training materials based on highly\n",
    "specialized knowledge, - Provide counsel on issues, and - Maintain complex databases.\n",
    "##E3 - Exposure given image capabilities: Suppose you had access to both the LLM and a\n",
    "system that could view, caption, and create images as well as any systems powered by the\n",
    "LLM (those in E2 above). This system cannot take video as an input and it cannot produce\n",
    "video as an output. This system cannot accurately retrieve very detailed information from\n",
    "image inputs, such as measurements of dimensions within an image. Label tasks as E3 if\n",
    "there is a significant reduction in the time it takes to complete the task given access to a LLM\n",
    "and these image capabilities: - Reading text from PDFs, - Scanning images, or - Creating\n",
    "or editing digital images according to instructions. The images can be realistic but they\n",
    "should not be detailed. The model can identify objects in the image but not relationships\n",
    "between those options\n",
    "## E0 - No exposure: Label tasks E0 if none of the above clearly decrease the time it takes\n",
    "for an experienced worker to complete the task with high quality by at least half. Some\n",
    "examples: - If a task requires a high degree of human interaction (for example, in-person\n",
    "demonstrations) then it should be classified as E0. - If a task requires precise measurements\n",
    "then it should be classified as E0. - If a task requires reviewing visuals in detail then it\n",
    "should be classified as E0. - If a task requires any use of a hand or walking then it should\n",
    "be classified as E0. - Tools built on top of the LLM cannot make any decisions that might\n",
    "impact human livelihood (e.g.hiring, grading, etc.). If any part of the task involves collecting\n",
    "inputs to make a final decision (as opposed to analyzing data to inform a decision or make a\n",
    "recommendation) then it should be classified as E0. The LLM can make recommendations.\n",
    "- Even if tools built on top of the LLM can do a task, if using those tools would not save\n",
    "an experienced worker significant time completing the task, then it should be classified as\n",
    "E0. - The LLM and systems built on top of it cannot do anything that legally requires a\n",
    "human to perform the task. - If there is existing technology not powered by an LLM that\n",
    "is commonly used and can complete the task then you should mark the task E0 if using an\n",
    "LLM or LLM-powered tool will not further reduce the time to complete the task. When in doubt, you should default to E0.\n",
    "\"\"\"\n",
    "\n",
    "task_text = \"\"\"Read the following occupation title\n",
    "and one of the tasks that belong to that occupation. Then do three things.\n",
    "1: Reason step by step to decide which of the labels (E0/E1/E2/E3) from the exposure rubric you were\n",
    "given applies to the task's exposure to LLM. Report. Give an explanation for which label\n",
    "applies and report the label that you think fits best. Do not say zero or N/A.\n",
    "2: Report only the label in 1 token that you determined for the task, which should match the label in\n",
    "step 1. Do not reply N/A.\n",
    "3: Given the amount of speculation required in step 1, describe your certainty about the\n",
    "estimate-either high, moderate, or low.\n",
    "\"\"\"\n",
    "# %%\n",
    "sample_df = pd.read_excel('./input_data/Task_Statements.xlsx', engine='openpyxl')\n",
    "\n",
    "sample_df['statement'] = \"occupation: \" + sample_df['Title'] + \", Task: \" + sample_df['Task']\n",
    "sample_df['id'] = sample_df.apply(lambda x: str(x['O*NET-SOC Code'])+'#STICKER#'+str(x['Task ID']), axis=1)\n",
    "\n",
    "subsample_df = sample_df[['statement', 'id']].sample(n=100, random_state=42)"
   ],
   "metadata": {
    "collapsed": false
   }
  },
  {
   "cell_type": "code",
   "execution_count": 4,
   "outputs": [
    {
     "data": {
      "text/plain": "                                               statement  \\\n2676   occupation: Geospatial Information Scientists ...   \n15846  occupation: Refrigeration Mechanics and Instal...   \n16286  occupation: Geothermal Technicians, Task: Dete...   \n14550  occupation: Plumbers, Task: Keep records of wo...   \n5331   occupation: Chemical Technicians, Task: Order ...   \n...                                                  ...   \n2626   occupation: Computer Systems Engineers/Archite...   \n911    occupation: Medical and Health Services Manage...   \n3525   occupation: Automotive Engineers, Task: Calibr...   \n438    occupation: Transportation Managers, Task: Ide...   \n16650  occupation: Forging Machine Setters, Operators...   \n\n                             id  \n2676   15-1199.04#STICKER#18114  \n15846   49-9021.02#STICKER#4908  \n16286  49-9099.01#STICKER#17939  \n14550  47-2152.02#STICKER#20440  \n5331    19-4031.00#STICKER#1543  \n...                         ...  \n2626   15-1199.02#STICKER#14689  \n911       11-9111.00#STICKER#46  \n3525   17-2141.02#STICKER#16434  \n438    11-3071.01#STICKER#19509  \n16650  51-4022.00#STICKER#10081  \n\n[100 rows x 2 columns]",
      "text/html": "<div>\n<style scoped>\n    .dataframe tbody tr th:only-of-type {\n        vertical-align: middle;\n    }\n\n    .dataframe tbody tr th {\n        vertical-align: top;\n    }\n\n    .dataframe thead th {\n        text-align: right;\n    }\n</style>\n<table border=\"1\" class=\"dataframe\">\n  <thead>\n    <tr style=\"text-align: right;\">\n      <th></th>\n      <th>statement</th>\n      <th>id</th>\n    </tr>\n  </thead>\n  <tbody>\n    <tr>\n      <th>2676</th>\n      <td>occupation: Geospatial Information Scientists ...</td>\n      <td>15-1199.04#STICKER#18114</td>\n    </tr>\n    <tr>\n      <th>15846</th>\n      <td>occupation: Refrigeration Mechanics and Instal...</td>\n      <td>49-9021.02#STICKER#4908</td>\n    </tr>\n    <tr>\n      <th>16286</th>\n      <td>occupation: Geothermal Technicians, Task: Dete...</td>\n      <td>49-9099.01#STICKER#17939</td>\n    </tr>\n    <tr>\n      <th>14550</th>\n      <td>occupation: Plumbers, Task: Keep records of wo...</td>\n      <td>47-2152.02#STICKER#20440</td>\n    </tr>\n    <tr>\n      <th>5331</th>\n      <td>occupation: Chemical Technicians, Task: Order ...</td>\n      <td>19-4031.00#STICKER#1543</td>\n    </tr>\n    <tr>\n      <th>...</th>\n      <td>...</td>\n      <td>...</td>\n    </tr>\n    <tr>\n      <th>2626</th>\n      <td>occupation: Computer Systems Engineers/Archite...</td>\n      <td>15-1199.02#STICKER#14689</td>\n    </tr>\n    <tr>\n      <th>911</th>\n      <td>occupation: Medical and Health Services Manage...</td>\n      <td>11-9111.00#STICKER#46</td>\n    </tr>\n    <tr>\n      <th>3525</th>\n      <td>occupation: Automotive Engineers, Task: Calibr...</td>\n      <td>17-2141.02#STICKER#16434</td>\n    </tr>\n    <tr>\n      <th>438</th>\n      <td>occupation: Transportation Managers, Task: Ide...</td>\n      <td>11-3071.01#STICKER#19509</td>\n    </tr>\n    <tr>\n      <th>16650</th>\n      <td>occupation: Forging Machine Setters, Operators...</td>\n      <td>51-4022.00#STICKER#10081</td>\n    </tr>\n  </tbody>\n</table>\n<p>100 rows × 2 columns</p>\n</div>"
     },
     "execution_count": 4,
     "metadata": {},
     "output_type": "execute_result"
    }
   ],
   "source": [
    "subsample_df"
   ],
   "metadata": {
    "collapsed": false
   }
  },
  {
   "cell_type": "code",
   "execution_count": 5,
   "outputs": [
    {
     "name": "stderr",
     "output_type": "stream",
     "text": [
      "100%|██████████| 17/17 [02:18<00:00,  8.13s/it]\n"
     ]
    }
   ],
   "source": [
    "qdicts, res = ClassifierT.classify_multi_task_dictres(\n",
    "    notion_text=\"\"\"\n",
    "    Read the following occupation title\n",
    "    and one of the tasks that belong to that occupation.\n",
    "    Then do three things. \"\"\",\n",
    "    tasks_choices_dict={\n",
    "        \"\"\"\n",
    "        Report only the label in given choices that you determined for the task report the label\n",
    "        from the exposure rubric you were given applies to the task's exposure to LLM.\n",
    "        report the label that you think fits best.\n",
    "        \"\"\": ['E0', 'E1', 'E2', 'E3'],\n",
    "\n",
    "        \"\"\"\n",
    "        Give me specific reason which step by step explain the reason why you have choosen the label\n",
    "        from the exposure rubric you were given applies to the task's exposure to LLM.\n",
    "        At least give me two sentences.\n",
    "        \"\"\": \"\",\n",
    "\n",
    "        \"\"\"\n",
    "        Given the amount of speculation required in step 1, describe your certainty about the\n",
    "        estimate\n",
    "        \"\"\": ['high', 'moderate', 'low']\n",
    "    },\n",
    "    statement_serdf=subsample_df,\n",
    "    target_col='statement',\n",
    "    identifier_col='id',\n",
    "    openai_apikey=APIKEY,\n",
    "    chunksize=6,\n",
    "    message_generate_func=lambda prp: [\n",
    "        {\"role\": \"system\", \"content\": systemprompt},\n",
    "        {\"role\": \"user\", \"content\": prp}\n",
    "    ],\n",
    "    ratelimit_call = 1000,\n",
    "    ratelimit_period = 60,\n",
    "    backoff_max_tries = 8,\n",
    "    result_type='df',\n",
    "    dataframe_format_error='skip',\n",
    "    dataframe_deficiency_error='ignore',\n",
    "    is_dataframe_errors_onebyone_retry=True,\n",
    "    model='gpt-3.5-turbo-16k'\n",
    ")"
   ],
   "metadata": {
    "collapsed": false
   }
  },
  {
   "cell_type": "code",
   "execution_count": 6,
   "outputs": [
    {
     "data": {
      "text/plain": "{'Question0': \"\\n        Report only the label in given choices that you determined for the task report the label\\n        from the exposure rubric you were given applies to the task's exposure to LLM.\\n        report the label that you think fits best.\\n        \",\n 'Question1': \"\\n        Give me specific reason which step by step explain the reason why you have choosen the label\\n        from the exposure rubric you were given applies to the task's exposure to LLM.\\n        At least give me two sentences.\\n        \",\n 'Question2': '\\n        Given the amount of speculation required in step 1, describe your certainty about the\\n        estimate\\n        '}"
     },
     "execution_count": 6,
     "metadata": {},
     "output_type": "execute_result"
    }
   ],
   "source": [
    "qdicts"
   ],
   "metadata": {
    "collapsed": false
   }
  },
  {
   "cell_type": "code",
   "execution_count": 7,
   "outputs": [
    {
     "data": {
      "text/plain": "   Question0                                          Question1 Question2  \\\n0         E1  I chose the label E1 because the task involves...      high   \n1         E0  I chose the label E0 because the task of adjus...      high   \n2         E2  I chose the label E2 because the task of deter...  moderate   \n3         E1  I chose the label E1 because the task of keepi...      high   \n4         E1  I chose the label E1 because the task of order...      high   \n..       ...                                                ...       ...   \n95        E2  I chose the label E2 because the task involves...      high   \n96        E1  I chose the label E1 because the task involves...      high   \n97        E2  I chose the label E2 because while the LLM alo...  moderate   \n98        E2  I chose the label E2 because although the LLM ...  moderate   \n99        E1  I chose the label E1 because the task of remov...      high   \n\n                          id  \n0   15-1199.04#STICKER#18114  \n1    49-9021.02#STICKER#4908  \n2   49-9099.01#STICKER#17939  \n3   47-2152.02#STICKER#20440  \n4    19-4031.00#STICKER#1543  \n..                       ...  \n95  15-1199.02#STICKER#14689  \n96     11-9111.00#STICKER#46  \n97  17-2141.02#STICKER#16434  \n98  11-3071.01#STICKER#19509  \n99  51-4022.00#STICKER#10081  \n\n[100 rows x 4 columns]",
      "text/html": "<div>\n<style scoped>\n    .dataframe tbody tr th:only-of-type {\n        vertical-align: middle;\n    }\n\n    .dataframe tbody tr th {\n        vertical-align: top;\n    }\n\n    .dataframe thead th {\n        text-align: right;\n    }\n</style>\n<table border=\"1\" class=\"dataframe\">\n  <thead>\n    <tr style=\"text-align: right;\">\n      <th></th>\n      <th>Question0</th>\n      <th>Question1</th>\n      <th>Question2</th>\n      <th>id</th>\n    </tr>\n  </thead>\n  <tbody>\n    <tr>\n      <th>0</th>\n      <td>E1</td>\n      <td>I chose the label E1 because the task involves...</td>\n      <td>high</td>\n      <td>15-1199.04#STICKER#18114</td>\n    </tr>\n    <tr>\n      <th>1</th>\n      <td>E0</td>\n      <td>I chose the label E0 because the task of adjus...</td>\n      <td>high</td>\n      <td>49-9021.02#STICKER#4908</td>\n    </tr>\n    <tr>\n      <th>2</th>\n      <td>E2</td>\n      <td>I chose the label E2 because the task of deter...</td>\n      <td>moderate</td>\n      <td>49-9099.01#STICKER#17939</td>\n    </tr>\n    <tr>\n      <th>3</th>\n      <td>E1</td>\n      <td>I chose the label E1 because the task of keepi...</td>\n      <td>high</td>\n      <td>47-2152.02#STICKER#20440</td>\n    </tr>\n    <tr>\n      <th>4</th>\n      <td>E1</td>\n      <td>I chose the label E1 because the task of order...</td>\n      <td>high</td>\n      <td>19-4031.00#STICKER#1543</td>\n    </tr>\n    <tr>\n      <th>...</th>\n      <td>...</td>\n      <td>...</td>\n      <td>...</td>\n      <td>...</td>\n    </tr>\n    <tr>\n      <th>95</th>\n      <td>E2</td>\n      <td>I chose the label E2 because the task involves...</td>\n      <td>high</td>\n      <td>15-1199.02#STICKER#14689</td>\n    </tr>\n    <tr>\n      <th>96</th>\n      <td>E1</td>\n      <td>I chose the label E1 because the task involves...</td>\n      <td>high</td>\n      <td>11-9111.00#STICKER#46</td>\n    </tr>\n    <tr>\n      <th>97</th>\n      <td>E2</td>\n      <td>I chose the label E2 because while the LLM alo...</td>\n      <td>moderate</td>\n      <td>17-2141.02#STICKER#16434</td>\n    </tr>\n    <tr>\n      <th>98</th>\n      <td>E2</td>\n      <td>I chose the label E2 because although the LLM ...</td>\n      <td>moderate</td>\n      <td>11-3071.01#STICKER#19509</td>\n    </tr>\n    <tr>\n      <th>99</th>\n      <td>E1</td>\n      <td>I chose the label E1 because the task of remov...</td>\n      <td>high</td>\n      <td>51-4022.00#STICKER#10081</td>\n    </tr>\n  </tbody>\n</table>\n<p>100 rows × 4 columns</p>\n</div>"
     },
     "execution_count": 7,
     "metadata": {},
     "output_type": "execute_result"
    }
   ],
   "source": [
    "res"
   ],
   "metadata": {
    "collapsed": false
   }
  }
 ],
 "metadata": {
  "kernelspec": {
   "display_name": "Python 3",
   "language": "python",
   "name": "python3"
  },
  "language_info": {
   "codemirror_mode": {
    "name": "ipython",
    "version": 2
   },
   "file_extension": ".py",
   "mimetype": "text/x-python",
   "name": "python",
   "nbconvert_exporter": "python",
   "pygments_lexer": "ipython2",
   "version": "2.7.6"
  }
 },
 "nbformat": 4,
 "nbformat_minor": 0
}
