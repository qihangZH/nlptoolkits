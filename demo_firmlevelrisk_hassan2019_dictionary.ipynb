{
 "cells": [
  {
   "cell_type": "code",
   "id": "d0ea3097d1af6588",
   "metadata": {
    "ExecuteTime": {
     "end_time": "2024-07-20T16:38:15.645256Z",
     "start_time": "2024-07-20T16:37:58.450976Z"
    }
   },
   "source": [
    "from nlptoolkits.FirmLevelRiskKits import DictionaryT, PreprocessT, ScorerT\n",
    "from nlptoolkits.SmallKits import IOHandlerT\n",
    "import nlptoolkits\n",
    "import pandas as pd\n",
    "import tempfile"
   ],
   "execution_count": 1,
   "outputs": []
  },
  {
   "cell_type": "markdown",
   "id": "86b78b422d1539cb",
   "metadata": {},
   "source": [
    "We make the basic classes for further use"
   ]
  },
  {
   "cell_type": "code",
   "id": "dfd0b21e560eb4fd",
   "metadata": {
    "ExecuteTime": {
     "end_time": "2024-07-20T16:38:15.802103Z",
     "start_time": "2024-07-20T16:38:15.647151Z"
    }
   },
   "source": [
    "internation_tax_dictionary = IOHandlerT.file_to_list(\n",
    "    './input_data/annotatedsent_Principles_of_International_Taxation.txt',\n",
    "    charset_error_encoding='utf-8'\n",
    ")[:1000]\n",
    "\n",
    "tweets_texture = IOHandlerT.file_to_list(\n",
    "    './input_data/tweets_origin.txt',\n",
    "    charset_error_encoding='utf-8'\n",
    ")[:1000]\n",
    "\n",
    "# make a class to clean the data(dict)\n",
    "corenlp_preprocess_cls = PreprocessT.NgramDataPreprocessor(\n",
    "    # remove_stopwords_set=nlptoolkits.resources.SET_STOPWORDS\n",
    ")\n",
    "\n",
    "# make a class to build the dictionary\n",
    "corenlp_ngram_dict_cls = DictionaryT.NgramDictionaryBuilder(\n",
    "    # remove_stopwords_set=nlptoolkits.resources.SET_STOPWORDS\n",
    ")"
   ],
   "execution_count": 2,
   "outputs": []
  },
  {
   "cell_type": "code",
   "id": "234b1a756f30e9dc",
   "metadata": {
    "ExecuteTime": {
     "end_time": "2024-07-20T16:38:15.817764Z",
     "start_time": "2024-07-20T16:38:15.803334Z"
    }
   },
   "source": [
    "internation_tax_dictionary[:3]"
   ],
   "execution_count": 3,
   "outputs": []
  },
  {
   "cell_type": "code",
   "id": "b659065130481dae",
   "metadata": {
    "ExecuteTime": {
     "end_time": "2024-07-20T16:38:15.833484Z",
     "start_time": "2024-07-20T16:38:15.819766Z"
    }
   },
   "source": [
    "tweets_texture[:3]"
   ],
   "execution_count": 4,
   "outputs": []
  },
  {
   "cell_type": "markdown",
   "id": "dfc9200b4ee6e404",
   "metadata": {},
   "source": [
    "Part to make Ngram dictionary"
   ]
  },
  {
   "cell_type": "code",
   "id": "ca073692c8d323fe",
   "metadata": {
    "ExecuteTime": {
     "end_time": "2024-07-20T16:38:19.607704Z",
     "start_time": "2024-07-20T16:38:15.835507Z"
    }
   },
   "source": [
    "international_tax_tfidf = corenlp_ngram_dict_cls.n_gramizer_dictionary_builder(\n",
    "    internation_tax_dictionary, scorer = 'tfidf', \n",
    "    final_remove_token_lessequal_then_length=1\n",
    "    )\n",
    "international_tax_tfidf"
   ],
   "execution_count": 5,
   "outputs": []
  },
  {
   "cell_type": "code",
   "id": "84076d3660b64472",
   "metadata": {
    "ExecuteTime": {
     "end_time": "2024-07-20T16:38:19.654836Z",
     "start_time": "2024-07-20T16:38:19.609703Z"
    }
   },
   "source": [
    "international_tax_tfidf"
   ],
   "execution_count": 6,
   "outputs": []
  },
  {
   "cell_type": "markdown",
   "id": "f983ad9d68c9492d",
   "metadata": {},
   "source": [
    "You can remove words by remove phrases which are in another dictionary, but we do not do here now."
   ]
  },
  {
   "cell_type": "markdown",
   "id": "78aa82a77a4e3d63",
   "metadata": {},
   "source": [
    "We now clean the tweets data quickly by using the nltk quick cleaner"
   ]
  },
  {
   "cell_type": "code",
   "id": "c0d7b214c4145b7b",
   "metadata": {
    "ExecuteTime": {
     "end_time": "2024-07-20T16:38:21.650210Z",
     "start_time": "2024-07-20T16:38:19.656353Z"
    }
   },
   "source": [
    "PreprocessT.naive_nltk_annotator(\n",
    "    tweets_texture,\n",
    "    processes=1\n",
    ")[0]"
   ],
   "execution_count": 7,
   "outputs": []
  },
  {
   "cell_type": "code",
   "id": "cd767f27868229a4",
   "metadata": {
    "ExecuteTime": {
     "end_time": "2024-07-20T16:39:08.178315Z",
     "start_time": "2024-07-20T16:38:21.652211Z"
    }
   },
   "source": [
    "tweets_texture_cleaned = corenlp_preprocess_cls.clean_annotated_texture_list(PreprocessT.naive_nltk_annotator(\n",
    "    tweets_texture,\n",
    "    processes=5\n",
    "), processes=5, final_remove_token_lessequal_then_length=1)\n",
    "tweets_texture_cleaned[0]"
   ],
   "execution_count": 8,
   "outputs": []
  },
  {
   "cell_type": "markdown",
   "id": "13051651",
   "metadata": {},
   "source": [
    "Actually you could also use the StanfordNLP cleaner to do so:"
   ]
  },
  {
   "cell_type": "code",
   "id": "d601568c",
   "metadata": {
    "ExecuteTime": {
     "end_time": "2024-07-20T16:39:29.122179Z",
     "start_time": "2024-07-20T16:39:08.180309Z"
    }
   },
   "source": [
    "corenlp_preprocess_cls.alias_auto_clean_annotated_txt(\n",
    "    processes=5,\n",
    "    path_in_parsed_txt='./input_data/annotatedsent_Principles_of_International_Taxation.txt',\n",
    "    path_out_cleaned_txt='./input_data/annotatedsent_Principles_of_International_Taxation_cleaned.txt',\n",
    "    final_remove_token_lessequal_then_length=1\n",
    ")"
   ],
   "execution_count": 9,
   "outputs": []
  },
  {
   "cell_type": "markdown",
   "id": "60a4f28356ff3e6b",
   "metadata": {},
   "source": [
    "Then we can try to give a score. we have some already known subject set like \"Risk\""
   ]
  },
  {
   "cell_type": "code",
   "id": "ac35932b4c3c1b9c",
   "metadata": {
    "ExecuteTime": {
     "end_time": "2024-07-20T16:39:29.137229Z",
     "start_time": "2024-07-20T16:39:29.124180Z"
    }
   },
   "source": [
    "nlptoolkits.resources.SET_OXFORD_SYNONYMS_RISK_WORDS_LOWER"
   ],
   "execution_count": 10,
   "outputs": []
  },
  {
   "cell_type": "code",
   "id": "88cd97ac",
   "metadata": {
    "ExecuteTime": {
     "end_time": "2024-07-20T16:39:29.152769Z",
     "start_time": "2024-07-20T16:39:29.139240Z"
    }
   },
   "source": "scorer_cls = ScorerT.NgramScorer()",
   "execution_count": 11,
   "outputs": []
  },
  {
   "metadata": {
    "ExecuteTime": {
     "end_time": "2024-07-20T16:39:29.167823Z",
     "start_time": "2024-07-20T16:39:29.153770Z"
    }
   },
   "cell_type": "code",
   "source": [
    "scorer_cls.scorer(\n",
    "    tweets_texture_cleaned[2],\n",
    "    topic_ngram_weighted_map_dict={'globtax':international_tax_tfidf},\n",
    "    subject_word_set_dict={'risk':nlptoolkits.resources.SET_OXFORD_SYNONYMS_RISK_WORDS_LOWER,\n",
    "                           'sentpos':nlptoolkits.resources.SET_LOUGHRAN_MCDONALD_POSITIVE_WORDS_LOWER,\n",
    "                           'sentneg':nlptoolkits.resources.SET_LOUGHRAN_MCDONALD_NEGATIVE_WORDS_LOWER,\n",
    "                           },\n",
    "    is_scale_by_totalwords=True,\n",
    "    binary_transformation_subjects=['sentpos'],\n",
    "    scale_multiplier=100000\n",
    ")"
   ],
   "id": "3d2252981d0c617c",
   "execution_count": 12,
   "outputs": []
  },
  {
   "metadata": {},
   "cell_type": "markdown",
   "source": "Batch run ->",
   "id": "9426b01ab82852df"
  },
  {
   "metadata": {
    "ExecuteTime": {
     "end_time": "2024-07-20T16:39:29.355909Z",
     "start_time": "2024-07-20T16:39:29.186326Z"
    }
   },
   "cell_type": "code",
   "source": [
    "rsts_tp = scorer_cls.list_scorer(\n",
    "    tweets_texture_cleaned,\n",
    "    topic_ngram_weighted_map_dict={'globtax':international_tax_tfidf},\n",
    "    subject_word_set_dict={'risk':nlptoolkits.resources.SET_OXFORD_SYNONYMS_RISK_WORDS_LOWER,\n",
    "                           'sentpos':nlptoolkits.resources.SET_LOUGHRAN_MCDONALD_POSITIVE_WORDS_LOWER,\n",
    "                           'sentneg':nlptoolkits.resources.SET_LOUGHRAN_MCDONALD_NEGATIVE_WORDS_LOWER,\n",
    "                           },\n",
    "    is_scale_by_totalwords=True,\n",
    "    binary_transformation_subjects=['risk'],\n",
    "    scale_multiplier=100000\n",
    ")"
   ],
   "id": "f9495d4ba58ac83d",
   "execution_count": 14,
   "outputs": []
  },
  {
   "metadata": {
    "ExecuteTime": {
     "end_time": "2024-07-20T16:39:29.387650Z",
     "start_time": "2024-07-20T16:39:29.357918Z"
    }
   },
   "cell_type": "code",
   "source": "pd.DataFrame(rsts_tp)",
   "id": "2b1406fecee528fc",
   "execution_count": 15,
   "outputs": []
  }
 ],
 "metadata": {
  "kernelspec": {
   "display_name": "Python 3",
   "language": "python",
   "name": "python3"
  },
  "language_info": {
   "codemirror_mode": {
    "name": "ipython",
    "version": 3
   },
   "file_extension": ".py",
   "mimetype": "text/x-python",
   "name": "python",
   "nbconvert_exporter": "python",
   "pygments_lexer": "ipython3",
   "version": "3.8.17"
  }
 },
 "nbformat": 4,
 "nbformat_minor": 5
}
