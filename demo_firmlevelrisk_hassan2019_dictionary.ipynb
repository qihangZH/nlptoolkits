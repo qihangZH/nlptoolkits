{
 "cells": [
  {
   "metadata": {
    "ExecuteTime": {
     "end_time": "2024-07-17T08:26:08.400867Z",
     "start_time": "2024-07-17T08:26:02.216470Z"
    }
   },
   "cell_type": "code",
   "source": [
    "from nlptoolkits.FirmLevelRiskKits import DictionaryT, PreprocessT\n",
    "from nlptoolkits.SmallKits import IOHandlerT"
   ],
   "id": "d0ea3097d1af6588",
   "execution_count": 1,
   "outputs": []
  },
  {
   "metadata": {},
   "cell_type": "markdown",
   "source": "We make the basic classes for further use",
   "id": "86b78b422d1539cb"
  },
  {
   "metadata": {
    "ExecuteTime": {
     "end_time": "2024-07-17T08:26:08.555148Z",
     "start_time": "2024-07-17T08:26:08.403543Z"
    }
   },
   "cell_type": "code",
   "source": [
    "internation_tax_dictionary = IOHandlerT.file_to_list(\n",
    "    './input_data/annotatedsent_Principles_of_International_Taxation.txt',\n",
    "    charset_error_encoding='utf-8'\n",
    ")[:1000]\n",
    "\n",
    "tweets_texture = IOHandlerT.file_to_list(\n",
    "    './input_data/tweets_origin.txt',\n",
    "    charset_error_encoding='utf-8'\n",
    ")[:1000]\n",
    "\n",
    "# make a class to clean the data(dict)\n",
    "corenlp_preprocess_cls = PreprocessT.NgramDataPreprocessor()\n",
    "\n",
    "# make a class to build the dictionary\n",
    "corenlp_ngram_dict_cls = DictionaryT.NgramDictionaryBuilder()"
   ],
   "id": "dfd0b21e560eb4fd",
   "execution_count": 2,
   "outputs": []
  },
  {
   "metadata": {
    "ExecuteTime": {
     "end_time": "2024-07-17T08:26:08.570474Z",
     "start_time": "2024-07-17T08:26:08.557147Z"
    }
   },
   "cell_type": "code",
   "source": "internation_tax_dictionary[:3]",
   "id": "234b1a756f30e9dc",
   "execution_count": 3,
   "outputs": []
  },
  {
   "metadata": {
    "ExecuteTime": {
     "end_time": "2024-07-17T08:26:08.585848Z",
     "start_time": "2024-07-17T08:26:08.573537Z"
    }
   },
   "cell_type": "code",
   "source": "tweets_texture[:3]",
   "id": "b659065130481dae",
   "execution_count": 4,
   "outputs": []
  },
  {
   "metadata": {},
   "cell_type": "markdown",
   "source": "Part to make Ngram dictionary",
   "id": "dfc9200b4ee6e404"
  },
  {
   "metadata": {
    "ExecuteTime": {
     "end_time": "2024-07-17T08:26:16.115776Z",
     "start_time": "2024-07-17T08:26:08.587852Z"
    }
   },
   "cell_type": "code",
   "source": [
    "international_tax_tfidf = corenlp_ngram_dict_cls.n_gramizer_dictionary_builder(internation_tax_dictionary, scorer = 'tfidf', \n",
    "                                                                               remove_ngram_postags_combinations=None\n",
    "                                                                               )"
   ],
   "id": "ca073692c8d323fe",
   "execution_count": 5,
   "outputs": []
  },
  {
   "metadata": {
    "ExecuteTime": {
     "end_time": "2024-07-17T08:26:16.162200Z",
     "start_time": "2024-07-17T08:26:16.117775Z"
    }
   },
   "cell_type": "code",
   "source": "international_tax_tfidf",
   "id": "84076d3660b64472",
   "execution_count": 6,
   "outputs": []
  },
  {
   "metadata": {},
   "cell_type": "markdown",
   "source": "You can remove words by remove phrases which are in another dictionary, but we do not do here now.",
   "id": "f983ad9d68c9492d"
  },
  {
   "metadata": {},
   "cell_type": "markdown",
   "source": "We now clean the tweets data quickly by using the nltk quick cleaner",
   "id": "78aa82a77a4e3d63"
  },
  {
   "metadata": {
    "ExecuteTime": {
     "end_time": "2024-07-17T08:33:40.669682Z",
     "start_time": "2024-07-17T08:33:38.443890Z"
    }
   },
   "cell_type": "code",
   "source": [
    "PreprocessT.naive_nltk_annotator(\n",
    "    tweets_texture\n",
    ")[0]"
   ],
   "id": "c0d7b214c4145b7b",
   "execution_count": 16,
   "outputs": []
  },
  {
   "metadata": {
    "ExecuteTime": {
     "end_time": "2024-07-17T08:33:53.391257Z",
     "start_time": "2024-07-17T08:33:40.671693Z"
    }
   },
   "cell_type": "code",
   "source": [
    "corenlp_preprocess_cls.clean_annotated_texture_list(PreprocessT.naive_nltk_annotator(\n",
    "    tweets_texture\n",
    "), processes=5)[0]"
   ],
   "id": "cd767f27868229a4",
   "execution_count": 17,
   "outputs": []
  }
 ],
 "metadata": {
  "kernelspec": {
   "display_name": "Python 3",
   "language": "python",
   "name": "python3"
  },
  "language_info": {
   "codemirror_mode": {
    "name": "ipython",
    "version": 2
   },
   "file_extension": ".py",
   "mimetype": "text/x-python",
   "name": "python",
   "nbconvert_exporter": "python",
   "pygments_lexer": "ipython2",
   "version": "2.7.6"
  }
 },
 "nbformat": 4,
 "nbformat_minor": 5
}
