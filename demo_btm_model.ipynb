{
 "cells": [
  {
   "cell_type": "code",
   "execution_count": 3,
   "metadata": {},
   "outputs": [],
   "source": [
    "from nlptoolkits.SmallKits import BitermplusT, LangDetectT\n",
    "from nlptoolkits.resources import SET_STOPWORDS\n",
    "import nltk\n",
    "import pandas as pd"
   ]
  },
  {
   "cell_type": "markdown",
   "metadata": {},
   "source": [
    "we firstly read the data and prepare to use"
   ]
  },
  {
   "cell_type": "code",
   "execution_count": 4,
   "metadata": {},
   "outputs": [
    {
     "name": "stderr",
     "output_type": "stream",
     "text": [
      "100%|██████████| 19777/19777 [00:27<00:00, 709.03it/s] \n"
     ]
    }
   ],
   "source": [
    "if __name__ == '__main__':\n",
    "    texts = pd.read_excel('./input_data/btm_sample_data.xlsx',\n",
    "                            engine='openpyxl', \n",
    "                            usecols = ['id', 'text_without_mentioned_user']\n",
    "                        )['text_without_mentioned_user'].to_list()\n",
    "    # stanza stopwords(stanford core nlp, english)\n",
    "    stopwords = list(set(list(SET_STOPWORDS) + nltk.corpus.stopwords.words('english')))\n",
    "    topic_num = 20\n",
    "    lang_list = LangDetectT.detect_seq_language_list(texts, loop_method='mp', result_type='all')\n",
    "    lang_list\n",
    "    "
   ]
  },
  {
   "cell_type": "markdown",
   "metadata": {},
   "source": [
    "We pick the None Arabic comments only"
   ]
  },
  {
   "cell_type": "code",
   "execution_count": 5,
   "metadata": {},
   "outputs": [],
   "source": [
    "arabic_language_codes_set = set(['ar', 'arz', 'apc', 'ary', 'apd', 'afb', 'acm', 'ayh'])\n",
    "texts = pd.Series(texts)[pd.Series(lang_list).apply(lambda x: set(x).isdisjoint(arabic_language_codes_set))].to_list()"
   ]
  },
  {
   "cell_type": "code",
   "execution_count": 6,
   "metadata": {},
   "outputs": [],
   "source": [
    "# https://scikit-learn.org/stable/modules/generated/sklearn.feature_extraction.text.CountVectorizer.html\n",
    "btmtopic_cls = BitermplusT.BtmTopic(train_text_list=texts, stop_words = stopwords)"
   ]
  },
  {
   "cell_type": "markdown",
   "metadata": {},
   "source": [
    "ok, then we use fit-transform to get the result we want, it also will make a new model"
   ]
  },
  {
   "cell_type": "code",
   "execution_count": 7,
   "metadata": {},
   "outputs": [
    {
     "name": "stderr",
     "output_type": "stream",
     "text": [
      "100%|██████████| 20/20 [00:02<00:00,  7.54it/s]\n",
      "100%|██████████| 19777/19777 [00:00<00:00, 155545.29it/s]\n"
     ]
    },
    {
     "data": {
      "text/plain": "array([[1.89321839e-03, 3.61715390e-03, 1.51344875e-03, ...,\n        7.70563475e-01, 1.41079182e-03, 6.19418384e-03],\n       [3.86663601e-04, 7.38647616e-05, 1.05027447e-04, ...,\n        9.88984811e-01, 2.07229255e-04, 1.59487221e-04],\n       [8.41173051e-03, 5.67153121e-03, 3.81360833e-03, ...,\n        7.30988737e-01, 2.57450045e-03, 9.67596533e-03],\n       ...,\n       [1.64190237e-02, 5.04870136e-02, 4.31207209e-02, ...,\n        4.16679705e-02, 1.51546828e-02, 2.67561145e-02],\n       [3.52831053e-03, 2.80018200e-01, 3.07989335e-02, ...,\n        2.32701096e-02, 3.98886884e-02, 1.36436146e-01],\n       [2.33942936e-02, 9.68559440e-02, 1.02843081e-02, ...,\n        2.13260958e-04, 6.57780389e-02, 1.00146151e-01]])"
     },
     "execution_count": 7,
     "metadata": {},
     "output_type": "execute_result"
    }
   ],
   "source": [
    "btmtopic_cls.fit_transform(seed=12321, T=topic_num, M=20, alpha=50/8, beta=0.01)"
   ]
  },
  {
   "cell_type": "code",
   "execution_count": 8,
   "metadata": {},
   "outputs": [
    {
     "data": {
      "text/plain": "<bitermplus._btm.BTM at 0x1ebf9139d30>"
     },
     "execution_count": 8,
     "metadata": {},
     "output_type": "execute_result"
    }
   ],
   "source": [
    "btmtopic_cls.model"
   ]
  },
  {
   "cell_type": "markdown",
   "metadata": {},
   "source": [
    "Even though, we do not need to use fit-transform for fit is enough, we then use the trained model to have the topic:"
   ]
  },
  {
   "cell_type": "code",
   "execution_count": 9,
   "metadata": {},
   "outputs": [
    {
     "data": {
      "text/plain": "       topic0     topic1     topic2      topic3   topic4     topic5  \\\n0       money       bank       bank        risk     bank       bank   \n1      people        get       many     banking   better      banks   \n2       banks      money      money  depositors      new       risk   \n3        bank       like       like    deposits   people  financial   \n4        bail      banks      banks        bank     like       many   \n5        like       cash        run       banks    banks   collapse   \n6        risk      going  companies         one    money        big   \n7       would    company   startups  management  banking       tech   \n8  government  companies        one        like    would    startup   \n9         get        one     people      system    think       even   \n\n       topic6      topic7     topic8     topic9  topic10    topic11  \\\n0        bank       money       bank       bank     bank  companies   \n1       money       banks       like    banking    banks      could   \n2         get        bank       good      banks     like      loans   \n3       banks    deposits     people      funds    money    failure   \n4       would         get        one   deposits     said    bailout   \n5        like  government      money   exposure     time    capital   \n6    deposits        bail  financial       like   people  important   \n7        need  depositors  companies  liquidity   crypto    economy   \n8  depositors        risk       many       risk      run       bank   \n9         run    interest      banks  companies  banking    private   \n\n     topic12   topic13     topic14   topic15    topic16     topic17 topic18  \\\n0       bank      bank        bank      bank       bank   uninsured  people   \n1      banks   billion       banks     money      banks       world    like   \n2  financial  deposits     balance    people       like        fail   money   \n3   interest    assets     banking      make    banking     deposit      go   \n4      since      sold  depositors      like        one     without     get   \n5      rates     stock        need       big      would       hours    make   \n6    banking   million       sheet       use      money  protecting    bank   \n7    failure     money       panic  deposits     system          48    bail   \n8     crisis      cash         get     would  financial    allowing   would   \n9        one     banks       would     banks        get         fix   going   \n\n    topic19  \n0     banks  \n1      like  \n2     would  \n3      bank  \n4     could  \n5     going  \n6  deposits  \n7       end  \n8      tech  \n9     short  ",
      "text/html": "<div>\n<style scoped>\n    .dataframe tbody tr th:only-of-type {\n        vertical-align: middle;\n    }\n\n    .dataframe tbody tr th {\n        vertical-align: top;\n    }\n\n    .dataframe thead th {\n        text-align: right;\n    }\n</style>\n<table border=\"1\" class=\"dataframe\">\n  <thead>\n    <tr style=\"text-align: right;\">\n      <th></th>\n      <th>topic0</th>\n      <th>topic1</th>\n      <th>topic2</th>\n      <th>topic3</th>\n      <th>topic4</th>\n      <th>topic5</th>\n      <th>topic6</th>\n      <th>topic7</th>\n      <th>topic8</th>\n      <th>topic9</th>\n      <th>topic10</th>\n      <th>topic11</th>\n      <th>topic12</th>\n      <th>topic13</th>\n      <th>topic14</th>\n      <th>topic15</th>\n      <th>topic16</th>\n      <th>topic17</th>\n      <th>topic18</th>\n      <th>topic19</th>\n    </tr>\n  </thead>\n  <tbody>\n    <tr>\n      <th>0</th>\n      <td>money</td>\n      <td>bank</td>\n      <td>bank</td>\n      <td>risk</td>\n      <td>bank</td>\n      <td>bank</td>\n      <td>bank</td>\n      <td>money</td>\n      <td>bank</td>\n      <td>bank</td>\n      <td>bank</td>\n      <td>companies</td>\n      <td>bank</td>\n      <td>bank</td>\n      <td>bank</td>\n      <td>bank</td>\n      <td>bank</td>\n      <td>uninsured</td>\n      <td>people</td>\n      <td>banks</td>\n    </tr>\n    <tr>\n      <th>1</th>\n      <td>people</td>\n      <td>get</td>\n      <td>many</td>\n      <td>banking</td>\n      <td>better</td>\n      <td>banks</td>\n      <td>money</td>\n      <td>banks</td>\n      <td>like</td>\n      <td>banking</td>\n      <td>banks</td>\n      <td>could</td>\n      <td>banks</td>\n      <td>billion</td>\n      <td>banks</td>\n      <td>money</td>\n      <td>banks</td>\n      <td>world</td>\n      <td>like</td>\n      <td>like</td>\n    </tr>\n    <tr>\n      <th>2</th>\n      <td>banks</td>\n      <td>money</td>\n      <td>money</td>\n      <td>depositors</td>\n      <td>new</td>\n      <td>risk</td>\n      <td>get</td>\n      <td>bank</td>\n      <td>good</td>\n      <td>banks</td>\n      <td>like</td>\n      <td>loans</td>\n      <td>financial</td>\n      <td>deposits</td>\n      <td>balance</td>\n      <td>people</td>\n      <td>like</td>\n      <td>fail</td>\n      <td>money</td>\n      <td>would</td>\n    </tr>\n    <tr>\n      <th>3</th>\n      <td>bank</td>\n      <td>like</td>\n      <td>like</td>\n      <td>deposits</td>\n      <td>people</td>\n      <td>financial</td>\n      <td>banks</td>\n      <td>deposits</td>\n      <td>people</td>\n      <td>funds</td>\n      <td>money</td>\n      <td>failure</td>\n      <td>interest</td>\n      <td>assets</td>\n      <td>banking</td>\n      <td>make</td>\n      <td>banking</td>\n      <td>deposit</td>\n      <td>go</td>\n      <td>bank</td>\n    </tr>\n    <tr>\n      <th>4</th>\n      <td>bail</td>\n      <td>banks</td>\n      <td>banks</td>\n      <td>bank</td>\n      <td>like</td>\n      <td>many</td>\n      <td>would</td>\n      <td>get</td>\n      <td>one</td>\n      <td>deposits</td>\n      <td>said</td>\n      <td>bailout</td>\n      <td>since</td>\n      <td>sold</td>\n      <td>depositors</td>\n      <td>like</td>\n      <td>one</td>\n      <td>without</td>\n      <td>get</td>\n      <td>could</td>\n    </tr>\n    <tr>\n      <th>5</th>\n      <td>like</td>\n      <td>cash</td>\n      <td>run</td>\n      <td>banks</td>\n      <td>banks</td>\n      <td>collapse</td>\n      <td>like</td>\n      <td>government</td>\n      <td>money</td>\n      <td>exposure</td>\n      <td>time</td>\n      <td>capital</td>\n      <td>rates</td>\n      <td>stock</td>\n      <td>need</td>\n      <td>big</td>\n      <td>would</td>\n      <td>hours</td>\n      <td>make</td>\n      <td>going</td>\n    </tr>\n    <tr>\n      <th>6</th>\n      <td>risk</td>\n      <td>going</td>\n      <td>companies</td>\n      <td>one</td>\n      <td>money</td>\n      <td>big</td>\n      <td>deposits</td>\n      <td>bail</td>\n      <td>financial</td>\n      <td>like</td>\n      <td>people</td>\n      <td>important</td>\n      <td>banking</td>\n      <td>million</td>\n      <td>sheet</td>\n      <td>use</td>\n      <td>money</td>\n      <td>protecting</td>\n      <td>bank</td>\n      <td>deposits</td>\n    </tr>\n    <tr>\n      <th>7</th>\n      <td>would</td>\n      <td>company</td>\n      <td>startups</td>\n      <td>management</td>\n      <td>banking</td>\n      <td>tech</td>\n      <td>need</td>\n      <td>depositors</td>\n      <td>companies</td>\n      <td>liquidity</td>\n      <td>crypto</td>\n      <td>economy</td>\n      <td>failure</td>\n      <td>money</td>\n      <td>panic</td>\n      <td>deposits</td>\n      <td>system</td>\n      <td>48</td>\n      <td>bail</td>\n      <td>end</td>\n    </tr>\n    <tr>\n      <th>8</th>\n      <td>government</td>\n      <td>companies</td>\n      <td>one</td>\n      <td>like</td>\n      <td>would</td>\n      <td>startup</td>\n      <td>depositors</td>\n      <td>risk</td>\n      <td>many</td>\n      <td>risk</td>\n      <td>run</td>\n      <td>bank</td>\n      <td>crisis</td>\n      <td>cash</td>\n      <td>get</td>\n      <td>would</td>\n      <td>financial</td>\n      <td>allowing</td>\n      <td>would</td>\n      <td>tech</td>\n    </tr>\n    <tr>\n      <th>9</th>\n      <td>get</td>\n      <td>one</td>\n      <td>people</td>\n      <td>system</td>\n      <td>think</td>\n      <td>even</td>\n      <td>run</td>\n      <td>interest</td>\n      <td>banks</td>\n      <td>companies</td>\n      <td>banking</td>\n      <td>private</td>\n      <td>one</td>\n      <td>banks</td>\n      <td>would</td>\n      <td>banks</td>\n      <td>get</td>\n      <td>fix</td>\n      <td>going</td>\n      <td>short</td>\n    </tr>\n  </tbody>\n</table>\n</div>"
     },
     "execution_count": 9,
     "metadata": {},
     "output_type": "execute_result"
    }
   ],
   "source": [
    "btmtopic_cls.get_top_topic_words(words_num=10)"
   ]
  },
  {
   "cell_type": "code",
   "execution_count": 10,
   "metadata": {},
   "outputs": [
    {
     "name": "stderr",
     "output_type": "stream",
     "text": [
      "100%|██████████| 19777/19777 [00:00<00:00, 157529.74it/s]\n"
     ]
    },
    {
     "data": {
      "text/plain": "                                              topic0  \\\n0  If any of that was distributed can it be clawe...   \n1                             What a fucking grifter   \n2              Another elegant advocacy for #fascism   \n3                              unbelievable bullshit   \n4  Yeah just noticed that Ukraine flag as well.  ...   \n5  There's no Vancouver location listed on their ...   \n6       This is unbelievable !  #Silicon_Valley_Bank   \n7                        This is boss babe behavior.   \n8  Sounds good. But human psychology overrides lo...   \n9  Why did  televise this tweet with an Ackman th...   \n\n                                              topic1  \\\n0  This is why we can't have serious discussions ...   \n1                                 yo whats up mates?   \n2                             This is why btc exists   \n3               \"from a source I trust\" jesus christ   \n4                          Bye bye USD, welcome btc.   \n5                     Forbes magazine strikes again.   \n6                                    self fulfilling   \n7                       Like you trusted Sam bankman   \n8                                       and ftx too!   \n9                                     Oh christ ……….   \n\n                                              topic2  \\\n0                               Lol, what a lick ass   \n1                        More freshly baked memes on   \n2                     Tell them to listen to the pod   \n3                                   some vad bitches   \n4                    You have the best Charles memes   \n5  Unfortunate for . Time for a silicon hills ban...   \n6                     How would it be circles fault?   \n7   Let the games begin I guess, but this isn’t new.   \n8           Just a few mouse clicks away, I suppose.   \n9  : They came long to research on  Financials.  ...   \n\n                                              topic3  \\\n0                         Your bio gives you away...   \n1                  #Forbes relies on AI for articles   \n2  Well it is all a result of DEI and wokeness Ma...   \n3                       I admire your optimism Eric!   \n4                 . excoriates  in this dialog about   \n5  They should be employing on meritocracy not th...   \n6  It is sooooo Awkward Man .  \"Especially the la...   \n7  Killed by their own wokeness #stopESG  #GoWoke...   \n8       How’s that wokeness working out for you SVB?   \n9                                Just don't dance ok   \n\n                                              topic4  \\\n0  It was your tanks in Kuwait, you liar, not ame...   \n1  Dont understand. What has Israel to do with ru...   \n2      Feeding my immature degenerate brain, thanks!   \n3                  Did they deleted discord as well?   \n4                    Hence the pizza boxes campaign.   \n5  First Citizens Bank () concorda em adquirir o ...   \n6         This is beneath you. Lost respect for you.   \n7  See below to understand why independence of  i...   \n8  so HERE we GO or better HERE THEIR RICH EGO IS...   \n9          But do lizards really have hairless an—s?   \n\n                                              topic5  \\\n0                              you mispelled memphis   \n1  What a duplicitous charlatan you are ! Typical...   \n2                          Must be an angel investor   \n3                The trusted source: his imagination   \n4  Agree, he was speaking on “standard operating ...   \n5    Biggest Q on fintwit right now:  Who TF are  ??   \n6                         Lol that's kinda hilarious   \n7                             uh yeah that's not why   \n8            Just read about this, mate it’s mental.   \n9  Read what my   colleagues have to savy about t...   \n\n                                             topic6  \\\n0  Wasn't this accompanied with tears and sniffles?   \n1                My feet are laughing at your tweet   \n2                          Such a cheap manipulator   \n3                               In it's purest form   \n4                                          lol oops   \n5              from their yachts + private planes..   \n6                   She looks comfy in that snuggie   \n7                           Go the F away you troll   \n8                I wonder what they are winning XRP   \n9                Oh no the fbi is at my door HELP!!   \n\n                                              topic7  \\\n0                                        rugged hard   \n1                                 The pull is rugged   \n2  Why are you so hyper? Your activity on Twitter...   \n3  On Monday, do they \"begin\" or do they \"continu...   \n4                                             rugged   \n5                                     rugged by bank   \n6                    You are a hard fella to trust..   \n7                                   utterly reckless   \n8  Chairman and CEO of Silicon Valley Banks decla...   \n9                   Read the room, you coffin dodger   \n\n                                              topic8  \\\n0  Jerome Powell is to  as preppy southern twunks...   \n1  Is joseph gentile to blame? Prior to being  ch...   \n2                    lemme grab some popcorn, first.   \n3                         His silence speaks wonders   \n4                                  Hmmmmmm oh my god   \n5         Just wait until the mineral shortages hit.   \n6  Oh for fux sakes, what is this \"It's a Wonderf...   \n7     Was that the straw that broke the camels back?   \n8  Hey Fucktard, the US is 32T in debt. The US it...   \n9               and ended up with an unhealthy bank.   \n\n                                              topic9  \\\n0  You're being coy about your indirect exposure,...   \n1      JPM analysis did not fool SVB CEO apparently.   \n2                          But desperate for a pivot   \n3                             Decentralize deez nuts   \n4       Yeah, let’s resurrect Tontine and spac this!   \n5                            The dominos are falling   \n6  Get exclusive discounts on Unidays & Student B...   \n7              So your indirect exposure is massive?   \n8                             We ride at dawn bishes   \n9  4/ 3 Personal Finance Lessons from the Collaps...   \n\n                                             topic10  \\\n0                     IRL mempool for   h/t  for pic   \n1  Because they were a leader in DEI compliance ,...   \n2                                      We did it joe   \n3                Yes, but first we revisit the highs   \n4  Dejá vù vibez    Any insight             ?   &...   \n5  The Congressional Bathroom Attendant probably ...   \n6      Excellent summary of what transpired at  from   \n7                          Is this bearish for gold?   \n8          You sound very assuring mr strategy dante   \n9                      Have fun unfucking that mess!   \n\n                                             topic11  \\\n0       You can cram that bailout in your cram hole.   \n1  My preferred pronouns are she/her.  My preferr...   \n2  \"important long-term driver of the economy as ...   \n3  \"a highly dilutive gov’t preferred bailout sho...   \n4             Dump muda fukas can kiss my LATINO ASS   \n5  Gotta prop up the petrodollar indefinitely som...   \n6                    in unlisted capital in general.   \n7                           Like psth warrants bill?   \n8  Treasury has briefed the California congressio...   \n9  Ackman: \"failure of  could destroy an importan...   \n\n                                             topic12  \\\n0                       Can you link this quote btw?   \n1                                 An instant classic   \n2     Why not? Cuz the benefits outweigh the risks….   \n3  BREAKING NEWS  The CEO of  has apparently deac...   \n4  JUST IN: Silicon Valley Bank  $SIVB reportedly...   \n5              It appears that  has been deactivated   \n6                         When are you racing again?   \n7           The ugly duckling validating the Peacock   \n8  Join , Head – #Cybersecurity #Governance, Risk...   \n9  JUST IN: Silicon Valley Bank $SIVB deactivated...   \n\n                                             topic13  \\\n0     Get your checkbook out and wet your beak bill.   \n1  What to do with my Wells Fargo brokerage acct ...   \n2  Wow! Scott Shay was a total Buffoon as outed b...   \n3  Wow! Signature Bank’s Scott Shay was a total B...   \n4  Any evidence these drove them into insolvency?...   \n5                         It's not math it's meth ..   \n6                                      panic mode on   \n7                     Is maturity matching an issue?   \n8   Wokeness reigns at svb. Look at today dailymail.   \n9       This disqualifies you as a serious candidate   \n\n                                             topic14  \\\n0  I will wager there is a pervasive sulfuric odo...   \n1                                 . halted premarket   \n2       mad respekt for #rippling among the  cluster   \n3  This is undoubtedly the beginning of the implo...   \n4  I CAN TELL YOU ABOUT #SVB & #FTX I AM   REQUES...   \n5  Thanks to , I predict this hashtag in the news...   \n6                            The conch says “coward”   \n7  Everything popped after FTX fiasco!  now  who'...   \n8    That’s what I’m thinking! Mind connecting us  ?   \n9  #breakingnews  stablecoin #usdc  Has depegged ...   \n\n                                             topic15  \\\n0                        Hope  dosnt have exposer to   \n1                                    Suck a big cock   \n2   What's with the monkey noises in the background?   \n3         When was he a political hero for the left?   \n4                      If you actually attended  and   \n5  Investing in onshoring US manufacturing&gt;&gt...   \n6                                        Suck a cock   \n7          What we have is evidently NOT capitalism.   \n8  SVB  & SBF  = SOL sht Out of Luck!!!!!  Regula...   \n9  Some people argue. Others demonstrate.  does t...   \n\n                                             topic16  \\\n0                Yes, let's stick to deadly viruses!   \n1           the elevator attendant of Signature Bank   \n2  Silicon Valle Bank (  ), Santa Clara, Californ...   \n3             What wineries are being affected by  ?   \n4  You do realize her career has been in Economic...   \n5  Hi Lindsey. I'm a reporter doing an SVB story....   \n6                              Comment section is on   \n7      Can you give me a handout while you’re at it?   \n8    On other hand u accuse Adani Ambani.. u r filth   \n9  Riot Stock Price tumbles 12%; Silvergate Bank ...   \n\n                                             topic17  \\\n0  As a customer, I’m so appreciative of  and the...   \n1  Oh my gosh! That is intense (even without a ba...   \n2  As I alluded to previously, …’How do you spell...   \n3  On se. Blue.The gov’t has about 48 hours to fi...   \n4  The gov’t has about 48 hours to fix a-soon-to-...   \n5  The gov’t has about 48 hours to fix a-soon-to-...   \n6  The gov’t has about 48 hours to fix a-soon-to-...   \n7  The gov’t has about 48 hours to fix a-soon-to-...   \n8  1/23 Bill Ackman on SVB:  The gov’t has about ...   \n9  Or This:  The gov’t has about 48 hours to fix ...   \n\n                                             topic18  \\\n0  Are you suggesting 'Go Woke Go Broke\"? How dar...   \n1      Damn that Vlad for crashing SVB. How dare he!   \n2                      They appreciate your donation   \n3              ThankвЂ™s for my xrp bonus. Brad love   \n4  Time for the \"Silicon Valley \"community \"\" to ...   \n5                                        steady lads   \n6                                   = inverse Cramer   \n7  \"I did not have sexual relations with that wom...   \n8       All the panic crazed boneheads will do that.   \n9                     my 215k xrp came! thank u Brad   \n\n                                             topic19  \n0              It is textbook prisoners dilemma, no?  \n1                 Enter Buffett the bargain hunter …  \n2                       And you were preaching india  \n3   And how did wasting $5 Billion work out for you?  \n4                                       Fuck u billy  \n5  10% is nothing..... Though its in Billions...P...  \n6       So. Privatize earnings and socialize losses.  \n7  The most annoying consequence of the $UST disa...  \n8                             You are communist scum  \n9  Climate crisis? You mean communism in a Trojan...  ",
      "text/html": "<div>\n<style scoped>\n    .dataframe tbody tr th:only-of-type {\n        vertical-align: middle;\n    }\n\n    .dataframe tbody tr th {\n        vertical-align: top;\n    }\n\n    .dataframe thead th {\n        text-align: right;\n    }\n</style>\n<table border=\"1\" class=\"dataframe\">\n  <thead>\n    <tr style=\"text-align: right;\">\n      <th></th>\n      <th>topic0</th>\n      <th>topic1</th>\n      <th>topic2</th>\n      <th>topic3</th>\n      <th>topic4</th>\n      <th>topic5</th>\n      <th>topic6</th>\n      <th>topic7</th>\n      <th>topic8</th>\n      <th>topic9</th>\n      <th>topic10</th>\n      <th>topic11</th>\n      <th>topic12</th>\n      <th>topic13</th>\n      <th>topic14</th>\n      <th>topic15</th>\n      <th>topic16</th>\n      <th>topic17</th>\n      <th>topic18</th>\n      <th>topic19</th>\n    </tr>\n  </thead>\n  <tbody>\n    <tr>\n      <th>0</th>\n      <td>If any of that was distributed can it be clawe...</td>\n      <td>This is why we can't have serious discussions ...</td>\n      <td>Lol, what a lick ass</td>\n      <td>Your bio gives you away...</td>\n      <td>It was your tanks in Kuwait, you liar, not ame...</td>\n      <td>you mispelled memphis</td>\n      <td>Wasn't this accompanied with tears and sniffles?</td>\n      <td>rugged hard</td>\n      <td>Jerome Powell is to  as preppy southern twunks...</td>\n      <td>You're being coy about your indirect exposure,...</td>\n      <td>IRL mempool for   h/t  for pic</td>\n      <td>You can cram that bailout in your cram hole.</td>\n      <td>Can you link this quote btw?</td>\n      <td>Get your checkbook out and wet your beak bill.</td>\n      <td>I will wager there is a pervasive sulfuric odo...</td>\n      <td>Hope  dosnt have exposer to</td>\n      <td>Yes, let's stick to deadly viruses!</td>\n      <td>As a customer, I’m so appreciative of  and the...</td>\n      <td>Are you suggesting 'Go Woke Go Broke\"? How dar...</td>\n      <td>It is textbook prisoners dilemma, no?</td>\n    </tr>\n    <tr>\n      <th>1</th>\n      <td>What a fucking grifter</td>\n      <td>yo whats up mates?</td>\n      <td>More freshly baked memes on</td>\n      <td>#Forbes relies on AI for articles</td>\n      <td>Dont understand. What has Israel to do with ru...</td>\n      <td>What a duplicitous charlatan you are ! Typical...</td>\n      <td>My feet are laughing at your tweet</td>\n      <td>The pull is rugged</td>\n      <td>Is joseph gentile to blame? Prior to being  ch...</td>\n      <td>JPM analysis did not fool SVB CEO apparently.</td>\n      <td>Because they were a leader in DEI compliance ,...</td>\n      <td>My preferred pronouns are she/her.  My preferr...</td>\n      <td>An instant classic</td>\n      <td>What to do with my Wells Fargo brokerage acct ...</td>\n      <td>. halted premarket</td>\n      <td>Suck a big cock</td>\n      <td>the elevator attendant of Signature Bank</td>\n      <td>Oh my gosh! That is intense (even without a ba...</td>\n      <td>Damn that Vlad for crashing SVB. How dare he!</td>\n      <td>Enter Buffett the bargain hunter …</td>\n    </tr>\n    <tr>\n      <th>2</th>\n      <td>Another elegant advocacy for #fascism</td>\n      <td>This is why btc exists</td>\n      <td>Tell them to listen to the pod</td>\n      <td>Well it is all a result of DEI and wokeness Ma...</td>\n      <td>Feeding my immature degenerate brain, thanks!</td>\n      <td>Must be an angel investor</td>\n      <td>Such a cheap manipulator</td>\n      <td>Why are you so hyper? Your activity on Twitter...</td>\n      <td>lemme grab some popcorn, first.</td>\n      <td>But desperate for a pivot</td>\n      <td>We did it joe</td>\n      <td>\"important long-term driver of the economy as ...</td>\n      <td>Why not? Cuz the benefits outweigh the risks….</td>\n      <td>Wow! Scott Shay was a total Buffoon as outed b...</td>\n      <td>mad respekt for #rippling among the  cluster</td>\n      <td>What's with the monkey noises in the background?</td>\n      <td>Silicon Valle Bank (  ), Santa Clara, Californ...</td>\n      <td>As I alluded to previously, …’How do you spell...</td>\n      <td>They appreciate your donation</td>\n      <td>And you were preaching india</td>\n    </tr>\n    <tr>\n      <th>3</th>\n      <td>unbelievable bullshit</td>\n      <td>\"from a source I trust\" jesus christ</td>\n      <td>some vad bitches</td>\n      <td>I admire your optimism Eric!</td>\n      <td>Did they deleted discord as well?</td>\n      <td>The trusted source: his imagination</td>\n      <td>In it's purest form</td>\n      <td>On Monday, do they \"begin\" or do they \"continu...</td>\n      <td>His silence speaks wonders</td>\n      <td>Decentralize deez nuts</td>\n      <td>Yes, but first we revisit the highs</td>\n      <td>\"a highly dilutive gov’t preferred bailout sho...</td>\n      <td>BREAKING NEWS  The CEO of  has apparently deac...</td>\n      <td>Wow! Signature Bank’s Scott Shay was a total B...</td>\n      <td>This is undoubtedly the beginning of the implo...</td>\n      <td>When was he a political hero for the left?</td>\n      <td>What wineries are being affected by  ?</td>\n      <td>On se. Blue.The gov’t has about 48 hours to fi...</td>\n      <td>ThankвЂ™s for my xrp bonus. Brad love</td>\n      <td>And how did wasting $5 Billion work out for you?</td>\n    </tr>\n    <tr>\n      <th>4</th>\n      <td>Yeah just noticed that Ukraine flag as well.  ...</td>\n      <td>Bye bye USD, welcome btc.</td>\n      <td>You have the best Charles memes</td>\n      <td>. excoriates  in this dialog about</td>\n      <td>Hence the pizza boxes campaign.</td>\n      <td>Agree, he was speaking on “standard operating ...</td>\n      <td>lol oops</td>\n      <td>rugged</td>\n      <td>Hmmmmmm oh my god</td>\n      <td>Yeah, let’s resurrect Tontine and spac this!</td>\n      <td>Dejá vù vibez    Any insight             ?   &amp;...</td>\n      <td>Dump muda fukas can kiss my LATINO ASS</td>\n      <td>JUST IN: Silicon Valley Bank  $SIVB reportedly...</td>\n      <td>Any evidence these drove them into insolvency?...</td>\n      <td>I CAN TELL YOU ABOUT #SVB &amp; #FTX I AM   REQUES...</td>\n      <td>If you actually attended  and</td>\n      <td>You do realize her career has been in Economic...</td>\n      <td>The gov’t has about 48 hours to fix a-soon-to-...</td>\n      <td>Time for the \"Silicon Valley \"community \"\" to ...</td>\n      <td>Fuck u billy</td>\n    </tr>\n    <tr>\n      <th>5</th>\n      <td>There's no Vancouver location listed on their ...</td>\n      <td>Forbes magazine strikes again.</td>\n      <td>Unfortunate for . Time for a silicon hills ban...</td>\n      <td>They should be employing on meritocracy not th...</td>\n      <td>First Citizens Bank () concorda em adquirir o ...</td>\n      <td>Biggest Q on fintwit right now:  Who TF are  ??</td>\n      <td>from their yachts + private planes..</td>\n      <td>rugged by bank</td>\n      <td>Just wait until the mineral shortages hit.</td>\n      <td>The dominos are falling</td>\n      <td>The Congressional Bathroom Attendant probably ...</td>\n      <td>Gotta prop up the petrodollar indefinitely som...</td>\n      <td>It appears that  has been deactivated</td>\n      <td>It's not math it's meth ..</td>\n      <td>Thanks to , I predict this hashtag in the news...</td>\n      <td>Investing in onshoring US manufacturing&amp;gt;&amp;gt...</td>\n      <td>Hi Lindsey. I'm a reporter doing an SVB story....</td>\n      <td>The gov’t has about 48 hours to fix a-soon-to-...</td>\n      <td>steady lads</td>\n      <td>10% is nothing..... Though its in Billions...P...</td>\n    </tr>\n    <tr>\n      <th>6</th>\n      <td>This is unbelievable !  #Silicon_Valley_Bank</td>\n      <td>self fulfilling</td>\n      <td>How would it be circles fault?</td>\n      <td>It is sooooo Awkward Man .  \"Especially the la...</td>\n      <td>This is beneath you. Lost respect for you.</td>\n      <td>Lol that's kinda hilarious</td>\n      <td>She looks comfy in that snuggie</td>\n      <td>You are a hard fella to trust..</td>\n      <td>Oh for fux sakes, what is this \"It's a Wonderf...</td>\n      <td>Get exclusive discounts on Unidays &amp; Student B...</td>\n      <td>Excellent summary of what transpired at  from</td>\n      <td>in unlisted capital in general.</td>\n      <td>When are you racing again?</td>\n      <td>panic mode on</td>\n      <td>The conch says “coward”</td>\n      <td>Suck a cock</td>\n      <td>Comment section is on</td>\n      <td>The gov’t has about 48 hours to fix a-soon-to-...</td>\n      <td>= inverse Cramer</td>\n      <td>So. Privatize earnings and socialize losses.</td>\n    </tr>\n    <tr>\n      <th>7</th>\n      <td>This is boss babe behavior.</td>\n      <td>Like you trusted Sam bankman</td>\n      <td>Let the games begin I guess, but this isn’t new.</td>\n      <td>Killed by their own wokeness #stopESG  #GoWoke...</td>\n      <td>See below to understand why independence of  i...</td>\n      <td>uh yeah that's not why</td>\n      <td>Go the F away you troll</td>\n      <td>utterly reckless</td>\n      <td>Was that the straw that broke the camels back?</td>\n      <td>So your indirect exposure is massive?</td>\n      <td>Is this bearish for gold?</td>\n      <td>Like psth warrants bill?</td>\n      <td>The ugly duckling validating the Peacock</td>\n      <td>Is maturity matching an issue?</td>\n      <td>Everything popped after FTX fiasco!  now  who'...</td>\n      <td>What we have is evidently NOT capitalism.</td>\n      <td>Can you give me a handout while you’re at it?</td>\n      <td>The gov’t has about 48 hours to fix a-soon-to-...</td>\n      <td>\"I did not have sexual relations with that wom...</td>\n      <td>The most annoying consequence of the $UST disa...</td>\n    </tr>\n    <tr>\n      <th>8</th>\n      <td>Sounds good. But human psychology overrides lo...</td>\n      <td>and ftx too!</td>\n      <td>Just a few mouse clicks away, I suppose.</td>\n      <td>How’s that wokeness working out for you SVB?</td>\n      <td>so HERE we GO or better HERE THEIR RICH EGO IS...</td>\n      <td>Just read about this, mate it’s mental.</td>\n      <td>I wonder what they are winning XRP</td>\n      <td>Chairman and CEO of Silicon Valley Banks decla...</td>\n      <td>Hey Fucktard, the US is 32T in debt. The US it...</td>\n      <td>We ride at dawn bishes</td>\n      <td>You sound very assuring mr strategy dante</td>\n      <td>Treasury has briefed the California congressio...</td>\n      <td>Join , Head – #Cybersecurity #Governance, Risk...</td>\n      <td>Wokeness reigns at svb. Look at today dailymail.</td>\n      <td>That’s what I’m thinking! Mind connecting us  ?</td>\n      <td>SVB  &amp; SBF  = SOL sht Out of Luck!!!!!  Regula...</td>\n      <td>On other hand u accuse Adani Ambani.. u r filth</td>\n      <td>1/23 Bill Ackman on SVB:  The gov’t has about ...</td>\n      <td>All the panic crazed boneheads will do that.</td>\n      <td>You are communist scum</td>\n    </tr>\n    <tr>\n      <th>9</th>\n      <td>Why did  televise this tweet with an Ackman th...</td>\n      <td>Oh christ ……….</td>\n      <td>: They came long to research on  Financials.  ...</td>\n      <td>Just don't dance ok</td>\n      <td>But do lizards really have hairless an—s?</td>\n      <td>Read what my   colleagues have to savy about t...</td>\n      <td>Oh no the fbi is at my door HELP!!</td>\n      <td>Read the room, you coffin dodger</td>\n      <td>and ended up with an unhealthy bank.</td>\n      <td>4/ 3 Personal Finance Lessons from the Collaps...</td>\n      <td>Have fun unfucking that mess!</td>\n      <td>Ackman: \"failure of  could destroy an importan...</td>\n      <td>JUST IN: Silicon Valley Bank $SIVB deactivated...</td>\n      <td>This disqualifies you as a serious candidate</td>\n      <td>#breakingnews  stablecoin #usdc  Has depegged ...</td>\n      <td>Some people argue. Others demonstrate.  does t...</td>\n      <td>Riot Stock Price tumbles 12%; Silvergate Bank ...</td>\n      <td>Or This:  The gov’t has about 48 hours to fix ...</td>\n      <td>my 215k xrp came! thank u Brad</td>\n      <td>Climate crisis? You mean communism in a Trojan...</td>\n    </tr>\n  </tbody>\n</table>\n</div>"
     },
     "execution_count": 10,
     "metadata": {},
     "output_type": "execute_result"
    }
   ],
   "source": [
    "btmtopic_cls.get_top_topic_docs(text_list=texts, docs_num=10)"
   ]
  }
 ],
 "metadata": {
  "kernelspec": {
   "display_name": "nusnlp38",
   "language": "python",
   "name": "python3"
  },
  "language_info": {
   "codemirror_mode": {
    "name": "ipython",
    "version": 3
   },
   "file_extension": ".py",
   "mimetype": "text/x-python",
   "name": "python",
   "nbconvert_exporter": "python",
   "pygments_lexer": "ipython3",
   "version": "3.8.0"
  },
  "orig_nbformat": 4
 },
 "nbformat": 4,
 "nbformat_minor": 2
}
