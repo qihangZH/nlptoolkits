{
 "cells": [
  {
   "cell_type": "code",
   "id": "initial_id",
   "metadata": {
    "collapsed": true,
    "ExecuteTime": {
     "end_time": "2024-12-06T11:08:59.780426Z",
     "start_time": "2024-12-06T11:08:58.582635Z"
    }
   },
   "source": [
    "import requests\n",
    "import json\n",
    "from PIL import Image\n",
    "from io import BytesIO\n",
    "import base64\n",
    "import matplotlib.pyplot as plt"
   ],
   "execution_count": 15,
   "outputs": []
  },
  {
   "metadata": {},
   "cell_type": "markdown",
   "source": [
    "https://github.com/qihangZH/omniparse\n",
    "Omniverse is a Machine-Learning Based document parser.\n",
    "It may good for LLM and other textural jobs. \n",
    "\n",
    "May only run the code before you make sure that you have init your docker server on port 8000, or what else\n"
   ],
   "id": "c7c7e3546dcb118"
  },
  {
   "metadata": {
    "ExecuteTime": {
     "end_time": "2024-12-06T10:55:47.426738Z",
     "start_time": "2024-12-06T10:55:13.798574Z"
    }
   },
   "cell_type": "code",
   "source": [
    "# Specify the file path and the endpoint URL\n",
    "file_path = r'./input_data/pdf_sample.pdf'\n",
    "url = \"http://localhost:8000/parse_document/pdf\"\n",
    "\n",
    "# same to \n",
    "# curl -X POST -F \"file=@/path/to/document.pdf\" http://localhost:8000/parse_document/pdf\n",
    "\n",
    "# Open the file and send it as part of the POST request\n",
    "with open(file_path, 'rb') as file:\n",
    "    files = {'file': file}\n",
    "    response = requests.post(url, files=files)\n",
    "\n",
    "# Print the response from the server\n",
    "print(response.status_code)  # HTTP status code\n",
    "print(response.text)         # Response content"
   ],
   "id": "fc76fb522a03416c",
   "execution_count": 2,
   "outputs": []
  },
  {
   "metadata": {},
   "cell_type": "markdown",
   "source": "We can also apply OCR in documents.",
   "id": "93d6dd7ddb4d4817"
  },
  {
   "metadata": {
    "ExecuteTime": {
     "end_time": "2024-12-06T11:00:18.393787Z",
     "start_time": "2024-12-06T11:00:02.653127Z"
    }
   },
   "cell_type": "code",
   "source": [
    "# Specify the file path and the endpoint URL\n",
    "file_path = r'./input_data/ocr_sample.pdf'\n",
    "url = \"http://localhost:8000/parse_document/pdf\"\n",
    "\n",
    "# same to \n",
    "# curl -X POST -F \"file=@/path/to/document.pdf\" http://localhost:8000/parse_document/pdf\n",
    "\n",
    "# Open the file and send it as part of the POST request\n",
    "with open(file_path, 'rb') as file:\n",
    "    files = {'file': file}\n",
    "    response = requests.post(url, files=files)\n",
    "\n",
    "# Print the response from the server\n",
    "print(response.status_code)  # HTTP status code\n",
    "print(response.text)         # Response content"
   ],
   "id": "ab8c3b9bdd6718a8",
   "execution_count": 3,
   "outputs": []
  },
  {
   "metadata": {
    "ExecuteTime": {
     "end_time": "2024-12-06T11:02:34.979028Z",
     "start_time": "2024-12-06T11:02:34.957290Z"
    }
   },
   "cell_type": "code",
   "source": [
    "# read json to dict\n",
    "datadict = json.loads(response.text)\n",
    "datadict"
   ],
   "id": "f11a20283c8d4b0f",
   "execution_count": 8,
   "outputs": []
  },
  {
   "metadata": {
    "ExecuteTime": {
     "end_time": "2024-12-06T11:03:26.203092Z",
     "start_time": "2024-12-06T11:03:26.189075Z"
    }
   },
   "cell_type": "code",
   "source": "datadict['images'][0]",
   "id": "79debd870a7d50c2",
   "execution_count": 14,
   "outputs": []
  },
  {
   "metadata": {},
   "cell_type": "markdown",
   "source": "Seems it also help us to extract the figures from the PDF? How about extract pics from it?",
   "id": "a1ef856317ec74e2"
  },
  {
   "metadata": {
    "ExecuteTime": {
     "end_time": "2024-12-06T11:09:28.859725Z",
     "start_time": "2024-12-06T11:09:28.745099Z"
    }
   },
   "cell_type": "code",
   "source": [
    "# Decode the Base64 string\n",
    "image_bytes = base64.b64decode(datadict['images'][0]['image'])\n",
    "\n",
    "# Load the image using PIL\n",
    "image = Image.open(BytesIO(image_bytes))\n",
    "\n",
    "# Display the image in the notebook\n",
    "plt.imshow(image)\n",
    "plt.axis('off')  # Hide axes\n",
    "plt.show()"
   ],
   "id": "7673be992b9d12a0",
   "execution_count": 16,
   "outputs": []
  },
  {
   "metadata": {
    "ExecuteTime": {
     "end_time": "2024-12-06T11:09:41.352781Z",
     "start_time": "2024-12-06T11:09:41.291819Z"
    }
   },
   "cell_type": "code",
   "source": [
    "# Decode the Base64 string\n",
    "image_bytes = base64.b64decode(datadict['images'][1]['image'])\n",
    "\n",
    "# Load the image using PIL\n",
    "image = Image.open(BytesIO(image_bytes))\n",
    "\n",
    "# Display the image in the notebook\n",
    "plt.imshow(image)\n",
    "plt.axis('off')  # Hide axes\n",
    "plt.show()"
   ],
   "id": "ec53ae64395ea5d0",
   "execution_count": 17,
   "outputs": []
  },
  {
   "metadata": {
    "ExecuteTime": {
     "end_time": "2024-12-06T11:09:48.594368Z",
     "start_time": "2024-12-06T11:09:48.548797Z"
    }
   },
   "cell_type": "code",
   "source": [
    "# Decode the Base64 string\n",
    "image_bytes = base64.b64decode(datadict['images'][2]['image'])\n",
    "\n",
    "# Load the image using PIL\n",
    "image = Image.open(BytesIO(image_bytes))\n",
    "\n",
    "# Display the image in the notebook\n",
    "plt.imshow(image)\n",
    "plt.axis('off')  # Hide axes\n",
    "plt.show()"
   ],
   "id": "ade94a9bc1869e10",
   "execution_count": 18,
   "outputs": []
  }
 ],
 "metadata": {
  "kernelspec": {
   "display_name": "Python 3",
   "language": "python",
   "name": "python3"
  },
  "language_info": {
   "codemirror_mode": {
    "name": "ipython",
    "version": 2
   },
   "file_extension": ".py",
   "mimetype": "text/x-python",
   "name": "python",
   "nbconvert_exporter": "python",
   "pygments_lexer": "ipython2",
   "version": "2.7.6"
  }
 },
 "nbformat": 4,
 "nbformat_minor": 5
}
