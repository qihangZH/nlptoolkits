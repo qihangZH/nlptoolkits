{
 "cells": [
  {
   "cell_type": "code",
   "execution_count": 26,
   "metadata": {},
   "source": [
    "import json\n",
    "import openai\n",
    "openai.api_key = input(\"Enter your OpenAI API key: \")\n",
    "\n",
    "\n",
    "training_data = [{\n",
    "    \"prompt\": \"Where is the billing ->\",\n",
    "    \"completion\": \" You find the billing in the left-hand side menu.\"\n",
    "},{\n",
    "    \"prompt\":\"How do I upgrade my account ->\",\n",
    "    \"completion\": \" Visit you user settings in the left-hand side menu, then click 'upgrade account' button at the top.\"\n",
    "}\n",
    "]"
   ],
   "outputs": []
  },
  {
   "cell_type": "code",
   "execution_count": 27,
   "metadata": {},
   "source": [
    "training_data"
   ],
   "outputs": []
  },
  {
   "cell_type": "code",
   "execution_count": 28,
   "metadata": {},
   "source": [
    "file_name = \"training_data.jsonl\"\n",
    "\n",
    "with open(file_name, \"w\") as output_file:\n",
    "    for entry in training_data:\n",
    "        json.dump(entry, output_file)\n",
    "        output_file.write(\"\\n\")"
   ],
   "outputs": []
  },
  {
   "cell_type": "code",
   "execution_count": 29,
   "metadata": {},
   "source": [
    "!openai tools fine_tunes.prepare_data -f training_data.jsonl"
   ],
   "outputs": []
  },
  {
   "cell_type": "code",
   "execution_count": 30,
   "metadata": {},
   "source": [
    "upload_response = openai.File.create(\n",
    "  file=open(file_name, \"rb\"),\n",
    "  purpose='fine-tune'\n",
    ")\n",
    "file_id = upload_response.id\n",
    "upload_response"
   ],
   "outputs": []
  },
  {
   "cell_type": "code",
   "execution_count": 31,
   "metadata": {},
   "source": [
    "fine_tune_response = openai.FineTune.create(training_file=file_id)\n",
    "fine_tune_response"
   ],
   "outputs": []
  },
  {
   "cell_type": "code",
   "execution_count": 47,
   "metadata": {},
   "source": [
    "fine_tune_events = openai.FineTune.list_events(id=fine_tune_response.id)\n",
    "fine_tune_events"
   ],
   "outputs": []
  },
  {
   "cell_type": "code",
   "execution_count": 42,
   "metadata": {},
   "source": [
    "retrieve_response = openai.FineTune.retrieve(id=fine_tune_response.id)\n",
    "retrieve_response"
   ],
   "outputs": []
  },
  {
   "cell_type": "code",
   "execution_count": 34,
   "metadata": {},
   "source": [
    "# Option 1 | if response.fine_tuned_model != null\n",
    "fine_tuned_model = fine_tune_response.fine_tuned_model\n",
    "fine_tuned_model"
   ],
   "outputs": []
  },
  {
   "cell_type": "code",
   "execution_count": 35,
   "metadata": {},
   "source": [
    "fine_tuned_model"
   ],
   "outputs": []
  }
 ],
 "metadata": {
  "kernelspec": {
   "display_name": "nusnlp38",
   "language": "python",
   "name": "python3"
  },
  "language_info": {
   "codemirror_mode": {
    "name": "ipython",
    "version": 3
   },
   "file_extension": ".py",
   "mimetype": "text/x-python",
   "name": "python",
   "nbconvert_exporter": "python",
   "pygments_lexer": "ipython3",
   "version": "3.8.0"
  },
  "orig_nbformat": 4
 },
 "nbformat": 4,
 "nbformat_minor": 2
}
